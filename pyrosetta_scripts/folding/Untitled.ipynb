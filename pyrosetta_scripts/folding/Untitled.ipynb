{
 "cells": [
  {
   "cell_type": "code",
   "execution_count": 42,
   "metadata": {},
   "outputs": [
    {
     "name": "stdout",
     "output_type": "stream",
     "text": [
      "PyRosetta-4 2020 [Rosetta PyRosetta4.Release.python37.mac 2020.02+release.22ef835b4a2647af94fcd6421a85720f07eddf12 2020-01-05T17:31:56] retrieved from: http://www.pyrosetta.org\n",
      "(C) Copyright Rosetta Commons Member Institutions. Created in JHU by Sergey Lyskov and PyRosetta Team.\n",
      "\u001b[0mcore.init: \u001b[0mChecking for fconfig files in pwd and ./rosetta/flags\n",
      "\u001b[0mcore.init: \u001b[0mRosetta version: PyRosetta4.Release.python37.mac r242 2020.02+release.22ef835b4a2 22ef835b4a2647af94fcd6421a85720f07eddf12 http://www.pyrosetta.org 2020-01-05T17:31:56\n",
      "\u001b[0mcore.init: \u001b[0mcommand: PyRosetta -ex1 -ex2aro -database /usr/local/Caskroom/miniconda/base/envs/rdkit/lib/python3.7/site-packages/pyrosetta-2020.2+release.22ef835b4a2-py3.7-macosx-10.9-x86_64.egg/pyrosetta/database\n",
      "\u001b[0mbasic.random.init_random_generator: \u001b[0m'RNG device' seed mode, using '/dev/urandom', seed=1407314218 seed_offset=0 real_seed=1407314218\n",
      "\u001b[0mbasic.random.init_random_generator: \u001b[0mRandomGenerator:init: Normal mode, seed=1407314218 RG_type=mt19937\n"
     ]
    }
   ],
   "source": [
    "import numpy as np\n",
    "from pyrosetta import *\n",
    "init()\n",
    "\n",
    "from pyrosetta.rosetta.protocols.moves import *\n",
    "from pyrosetta.rosetta.core.scoring import *\n",
    "from pyrosetta.rosetta.protocols.simple_moves import *\n",
    "from pyrosetta.rosetta.protocols.minimization_packing import *\n",
    "\n",
    "import matplotlib.pyplot as plt"
   ]
  },
  {
   "cell_type": "code",
   "execution_count": 35,
   "metadata": {},
   "outputs": [
    {
     "data": {
      "text/plain": [
       "156.57643598651632"
      ]
     },
     "execution_count": 35,
     "metadata": {},
     "output_type": "execute_result"
    }
   ],
   "source": [
    "pose = pose_from_sequence(\"VIHCDAATICPDGTTCSLSPYGVWYCSPFS\")\n",
    "switch = SwitchResidueTypeSetMover(\"centroid\")\n",
    "switch.apply(pose)\n",
    "sfxn = create_score_function(\"score3\")\n",
    "starting_pose = pose.clone()\n",
    "sfxn(pose)"
   ]
  },
  {
   "cell_type": "code",
   "execution_count": 76,
   "metadata": {},
   "outputs": [
    {
     "name": "stdout",
     "output_type": "stream",
     "text": [
      "\u001b[0mcore.import_pose.import_pose: \u001b[0mFile '1qgm.pdb' automatically determined to be of type PDB\n",
      "\u001b[0mcore.io.pose_from_sfr.PoseFromSFRBuilder: \u001b[0m\u001b[1m[ WARNING ]\u001b[0m discarding 3 atoms at position 1 in file 1qgm.pdb. Best match rsd_type:  VAL:NtermProteinFull\n",
      "\u001b[0mcore.conformation.Conformation: \u001b[0mFound disulfide between residues 4 16\n",
      "\u001b[0mcore.conformation.Conformation: \u001b[0mcurrent variant for 4 CYS\n",
      "\u001b[0mcore.conformation.Conformation: \u001b[0mcurrent variant for 16 CYS\n",
      "\u001b[0mcore.conformation.Conformation: \u001b[0mcurrent variant for 4 CYD\n",
      "\u001b[0mcore.conformation.Conformation: \u001b[0mcurrent variant for 16 CYD\n",
      "\u001b[0mcore.conformation.Conformation: \u001b[0mFound disulfide between residues 10 26\n",
      "\u001b[0mcore.conformation.Conformation: \u001b[0mcurrent variant for 10 CYS\n",
      "\u001b[0mcore.conformation.Conformation: \u001b[0mcurrent variant for 26 CYS\n",
      "\u001b[0mcore.conformation.Conformation: \u001b[0mcurrent variant for 10 CYD\n",
      "\u001b[0mcore.conformation.Conformation: \u001b[0mcurrent variant for 26 CYD\n"
     ]
    },
    {
     "data": {
      "text/plain": [
       "(63.8669820863305, 9.485105514526367)"
      ]
     },
     "execution_count": 76,
     "metadata": {},
     "output_type": "execute_result"
    }
   ],
   "source": [
    "native_pose = pose_from_pdb(\"1qgm.pdb\")\n",
    "switch.apply(native_pose)\n",
    "sfxn(native_pose), CA_rmsd(pose, native_pose)"
   ]
  },
  {
   "cell_type": "code",
   "execution_count": 89,
   "metadata": {},
   "outputs": [],
   "source": [
    "movemap = MoveMap()\n",
    "movemap.set_bb(True)\n",
    "\n",
    "n_moves = 1\n",
    "angles = 30.0\n",
    "kT = 1.0\n",
    "rnd_mover = RandomTorsionMover(move_map=movemap, max_angle=angles, num_moves=n_moves)\n",
    "\n",
    "pose = starting_pose.clone()\n",
    "mc = MonteCarlo(pose, sfxn, kT)"
   ]
  },
  {
   "cell_type": "code",
   "execution_count": 90,
   "metadata": {},
   "outputs": [],
   "source": [
    "score_womc = []\n",
    "score_wmc = []\n",
    "rmsd = []\n",
    "for i in range(10000):\n",
    "    rnd_mover.apply(pose)\n",
    "    score_womc.append(sfxn(pose))\n",
    "    mc.boltzmann(pose)\n",
    "    score_wmc.append(sfxn(pose))\n",
    "    rmsd.append(CA_rmsd(native_pose, pose))\n",
    "    \n",
    "score_womc = np.array(score_womc)\n",
    "score_wmc = np.array(score_wmc)\n",
    "rmsd = np.array(rmsd)"
   ]
  },
  {
   "cell_type": "code",
   "execution_count": 91,
   "metadata": {},
   "outputs": [
    {
     "data": {
      "image/png": "[encoded data removed]",
      "text/plain": [
       "<Figure size 432x288 with 1 Axes>"
      ]
     },
     "metadata": {
      "needs_background": "light"
     },
     "output_type": "display_data"
    }
   ],
   "source": [
    "plt.plot(score_womc, color='b')\n",
    "plt.plot(score_wmc, color='r')\n",
    "plt.show()"
   ]
  },
  {
   "cell_type": "code",
   "execution_count": 92,
   "metadata": {},
   "outputs": [
    {
     "data": {
      "image/png": "[encoded data removed]",
      "text/plain": [
       "<Figure size 432x288 with 1 Axes>"
      ]
     },
     "metadata": {
      "needs_background": "light"
     },
     "output_type": "display_data"
    }
   ],
   "source": [
    "plt.plot(rmsd)\n",
    "plt.show()"
   ]
  },
  {
   "cell_type": "code",
   "execution_count": 60,
   "metadata": {},
   "outputs": [
    {
     "name": "stdout",
     "output_type": "stream",
     "text": [
      "81.42601784545651 10.410965919494629\n"
     ]
    }
   ],
   "source": [
    "mc.recover_low(pose)\n",
    "\n",
    "min_mover = MinMover()\n",
    "min_mover.set_movemap(movemap)\n",
    "min_mover.score_function(sfxn)\n",
    "\n",
    "min_mover.apply(pose)\n",
    "print(sfxn(pose), CA_rmsd(native_pose, pose))"
   ]
  },
  {
   "cell_type": "code",
   "execution_count": 107,
   "metadata": {},
   "outputs": [
    {
     "name": "stdout",
     "output_type": "stream",
     "text": [
      "1 -13.049075176244855 132.6909249760571 -13.049075176244855 132.6909249760571 True True\n",
      "2 13.635143352971406 103.10321081472898 13.635143352971406 103.10321081472898 True True\n",
      "3 -101.71022310029306 -167.3247452835602 -101.71022310029306 -167.3247452835602 True True\n",
      "4 159.7746290818065 -67.84094639409503 159.7746290818065 -67.84094639409503 True True\n",
      "5 -100.96141597429654 -105.27679758703641 -100.96141597429654 -105.27679758703641 True True\n",
      "6 -161.67034733872384 -127.42751422937228 -161.67034733872384 -127.42751422937228 True True\n",
      "7 -134.61368432961117 172.25866895159328 -134.61368432961117 172.25866895159328 True True\n",
      "8 175.21379686563478 -173.58271617974393 175.21379686563478 -173.58271617974393 True True\n",
      "9 -143.20025282673973 148.72692529244733 -143.20025282673973 148.72692529244733 True True\n",
      "10 146.54945772577034 -170.98144207869643 146.54945772577034 -170.98144207869643 True True\n",
      "11 -164.0837709122837 145.88043827657555 -164.0837709122837 145.88043827657555 True True\n",
      "12 158.941952326475 -152.77782325030824 158.941952326475 -152.77782325030824 True True\n",
      "13 -118.81100869792859 132.23453949622157 -118.81100869792859 132.23453949622157 True True\n",
      "14 143.3460605800865 165.94347774446365 143.3460605800865 165.94347774446365 True True\n",
      "15 159.6224477485662 -149.3906014534226 159.6224477485662 -149.3906014534226 True True\n",
      "16 159.67442628988965 -141.97968760243643 159.67442628988965 -141.97968760243643 True True\n",
      "17 -125.07367548662415 178.69333062764446 -125.07367548662415 178.69333062764446 True True\n",
      "18 154.48652609877928 -166.83893430645708 154.48652609877928 -166.83893430645708 True True\n",
      "19 -155.85716130719717 134.29273284431076 -155.85716130719717 134.29273284431076 True True\n",
      "20 149.31262384310907 -171.99243847171942 149.31262384310907 -171.99243847171942 True True\n",
      "21 177.68644963298144 138.7199973369981 177.68644963298144 138.7199973369981 True True\n",
      "22 174.86376095321697 -153.35765284077956 174.86376095321697 -153.35765284077956 True True\n",
      "23 -119.51551933056666 156.91889940358118 -119.51551933056666 156.91889940358118 True True\n",
      "24 -168.34776060050024 136.36933405461903 -168.34776060050024 136.36933405461903 True True\n",
      "25 -163.09583042171028 -107.47704321148815 -163.09583042171028 -107.47704321148815 True True\n",
      "26 -156.43736179340397 -166.43553721085823 -156.43736179340397 -166.43553721085823 True True\n",
      "27 98.23201764989176 -172.8376893553479 98.23201764989176 -172.8376893553479 True True\n",
      "28 168.96159150796936 122.92380783807498 168.96159150796936 122.92380783807498 True True\n",
      "29 -175.6396720346592 -60.979696656546004 -175.6396720346592 -60.979696656546004 True True\n",
      "30 -52.90492604113895 30.77413168370534 -52.90492604113895 30.77413168370534 True True\n"
     ]
    }
   ],
   "source": [
    "pose_before = pose.clone()\n",
    "rnd_mover.apply(pose)\n",
    "for i in range(1, len(pose.sequence())+1):\n",
    "    print(i, pose_before.phi(i), pose_before.psi(i), pose.phi(i), pose.psi(i), pose_before.phi(i) == pose.phi(i), pose_before.psi(i) == pose.psi(i))"
   ]
  },
  {
   "cell_type": "code",
   "execution_count": 102,
   "metadata": {},
   "outputs": [
    {
     "name": "stdout",
     "output_type": "stream",
     "text": [
      "1 -13.049075176244855 132.6909249760571 -13.049075176244855 132.6909249760571 True True\n",
      "2 13.635143352971406 103.10321081472898 13.635143352971406 103.10321081472898 True True\n",
      "3 -101.71022310029306 -167.3247452835602 -101.71022310029306 -167.3247452835602 True True\n",
      "4 159.7746290818065 -67.84094639409503 159.7746290818065 -67.84094639409503 True True\n",
      "5 -100.96141597429654 -105.27679758703641 -100.96141597429654 -105.27679758703641 True True\n",
      "6 -161.67034733872384 -127.42751422937228 -161.67034733872384 -127.42751422937228 True True\n",
      "7 -134.61368432961117 172.25866895159328 -134.61368432961117 172.25866895159328 True True\n",
      "8 175.21379686563478 -173.58271617974393 175.21379686563478 -173.58271617974393 True True\n",
      "9 -143.20025282673973 148.72692529244733 -143.20025282673973 148.72692529244733 True True\n",
      "10 146.54945772577034 -170.98144207869643 146.54945772577034 -170.98144207869643 True True\n",
      "11 -164.0837709122837 145.88043827657555 -164.0837709122837 145.88043827657555 True True\n",
      "12 158.941952326475 -159.0732089492112 158.941952326475 -159.0732089492112 True True\n",
      "13 -118.81100869792859 132.23453949622157 -118.81100869792859 132.23453949622157 True True\n",
      "14 143.3460605800865 165.94347774446365 143.3460605800865 165.94347774446365 True True\n",
      "15 158.74415453431152 -149.3906014534226 158.74415453431152 -149.3906014534226 True True\n",
      "16 156.84021093499436 -143.97726548706382 159.67442628988965 -141.97968760243643 False False\n",
      "17 -125.07367548662415 178.69333062764446 -125.07367548662415 178.69333062764446 True True\n",
      "18 155.77552365584827 -166.83893430645708 155.77552365584827 -166.83893430645708 True True\n",
      "19 -155.85716130719717 134.29273284431076 -155.85716130719717 134.29273284431076 True True\n",
      "20 149.31262384310907 -171.99243847171942 149.31262384310907 -171.99243847171942 True True\n",
      "21 177.68644963298144 138.7199973369981 177.68644963298144 138.7199973369981 True True\n",
      "22 174.86376095321697 -153.35765284077956 174.86376095321697 -153.35765284077956 True True\n",
      "23 -119.51551933056666 156.91889940358118 -119.51551933056666 156.91889940358118 True True\n",
      "24 -162.7750490158002 136.36933405461903 -162.7750490158002 136.36933405461903 True True\n",
      "25 -168.66854200641032 -107.47704321148815 -168.66854200641032 -107.47704321148815 True True\n",
      "26 -156.43736179340397 -166.43553721085823 -156.43736179340397 -166.43553721085823 True True\n",
      "27 98.23201764989176 -172.8376893553479 98.23201764989176 -172.8376893553479 True True\n",
      "28 168.96159150796936 122.92380783807498 168.96159150796936 122.92380783807498 True True\n",
      "29 -175.6396720346592 -60.979696656546004 -175.6396720346592 -60.979696656546004 True True\n",
      "30 -52.90492604113895 30.77413168370534 -52.90492604113895 30.77413168370534 True True\n"
     ]
    }
   ],
   "source": [
    "n_moves = 1\n",
    "kT = 1.0\n",
    "small_mover = SmallMover(movemap, kT, n_moves)\n",
    "shear_mover = ShearMover(movemap, kT, n_moves)\n",
    "\n",
    "pose_before = pose.clone()\n",
    "small_mover.apply(pose)\n",
    "for i in range(1, len(pose.sequence())+1):\n",
    "    print(i, pose_before.phi(i), pose_before.psi(i), pose.phi(i), pose.psi(i), pose_before.phi(i) == pose.phi(i), pose_before.psi(i) == pose.psi(i))"
   ]
  },
  {
   "cell_type": "code",
   "execution_count": 103,
   "metadata": {},
   "outputs": [
    {
     "name": "stdout",
     "output_type": "stream",
     "text": [
      "1 -13.049075176244855 132.6909249760571 -13.049075176244855 132.6909249760571 True True\n",
      "2 13.635143352971406 103.10321081472898 13.635143352971406 103.10321081472898 True True\n",
      "3 -101.71022310029306 -167.3247452835602 -101.71022310029306 -167.3247452835602 True True\n",
      "4 159.7746290818065 -67.84094639409503 159.7746290818065 -67.84094639409503 True True\n",
      "5 -100.96141597429654 -105.27679758703641 -100.96141597429654 -105.27679758703641 True True\n",
      "6 -161.67034733872384 -127.42751422937228 -161.67034733872384 -127.42751422937228 True True\n",
      "7 -134.61368432961117 172.25866895159328 -134.61368432961117 172.25866895159328 True True\n",
      "8 175.21379686563478 -173.58271617974393 175.21379686563478 -173.58271617974393 True True\n",
      "9 -143.20025282673973 148.72692529244733 -143.20025282673973 148.72692529244733 True True\n",
      "10 146.54945772577034 -170.98144207869643 146.54945772577034 -170.98144207869643 True True\n",
      "11 -164.0837709122837 145.88043827657555 -164.0837709122837 145.88043827657555 True True\n",
      "12 158.941952326475 -159.0732089492112 158.941952326475 -159.0732089492112 True True\n",
      "13 -118.81100869792859 132.23453949622157 -118.81100869792859 132.23453949622157 True True\n",
      "14 143.3460605800865 165.94347774446365 143.3460605800865 165.94347774446365 True True\n",
      "15 158.74415453431152 -149.3906014534226 158.74415453431152 -149.3906014534226 True True\n",
      "16 159.67442628988965 -141.97968760243643 159.67442628988965 -141.97968760243643 True True\n",
      "17 -125.07367548662415 178.69333062764446 -125.07367548662415 178.69333062764446 True True\n",
      "18 155.77552365584827 -166.83893430645708 155.77552365584827 -166.83893430645708 True True\n",
      "19 -155.85716130719717 134.29273284431076 -155.85716130719717 134.29273284431076 True True\n",
      "20 149.31262384310907 -171.99243847171942 149.31262384310907 -171.99243847171942 True True\n",
      "21 177.68644963298144 138.7199973369981 177.68644963298144 138.7199973369981 True True\n",
      "22 174.86376095321697 -153.35765284077956 174.86376095321697 -153.35765284077956 True True\n",
      "23 -119.51551933056666 156.91889940358118 -119.51551933056666 156.91889940358118 True True\n",
      "24 -162.7750490158002 136.36933405461903 -168.34776060050024 136.36933405461903 False True\n",
      "25 -168.66854200641032 -107.47704321148815 -163.09583042171028 -107.47704321148815 False True\n",
      "26 -156.43736179340397 -166.43553721085823 -156.43736179340397 -166.43553721085823 True True\n",
      "27 98.23201764989176 -172.8376893553479 98.23201764989176 -172.8376893553479 True True\n",
      "28 168.96159150796936 122.92380783807498 168.96159150796936 122.92380783807498 True True\n",
      "29 -175.6396720346592 -60.979696656546004 -175.6396720346592 -60.979696656546004 True True\n",
      "30 -52.90492604113895 30.77413168370534 -52.90492604113895 30.77413168370534 True True\n"
     ]
    }
   ],
   "source": [
    "pose_before = pose.clone()\n",
    "shear_mover.apply(pose)\n",
    "for i in range(1, len(pose.sequence())+1):\n",
    "    print(i, pose_before.phi(i), pose_before.psi(i), pose.phi(i), pose.psi(i), pose_before.phi(i) == pose.phi(i), pose_before.psi(i) == pose.psi(i))"
   ]
  },
  {
   "cell_type": "code",
   "execution_count": 113,
   "metadata": {},
   "outputs": [
    {
     "data": {
      "text/plain": [
       "array([[4.85803116e-01, 4.13453523e-01, 5.35843980e-01],\n",
       "       [7.46584017e-01, 6.99064047e-01, 7.33917407e-01],\n",
       "       [1.81358919e-01, 9.00462570e-01, 9.58433874e-01],\n",
       "       [8.84303809e-04, 4.54954619e-01, 6.42081641e-03],\n",
       "       [8.75369591e-01, 8.91073773e-01, 9.37433943e-01],\n",
       "       [5.98449820e-01, 1.35796448e-01, 3.76928485e-01],\n",
       "       [7.68477282e-01, 9.89336573e-01, 9.66812778e-01],\n",
       "       [5.07693670e-01, 1.93804251e-01, 3.96995255e-01],\n",
       "       [9.54823832e-02, 9.95786150e-01, 7.44998298e-01],\n",
       "       [8.63585974e-01, 3.95701202e-01, 5.77997029e-01],\n",
       "       [3.26099938e-01, 9.26896597e-01, 2.25955528e-01],\n",
       "       [3.40887254e-02, 5.16672392e-02, 6.48144297e-01],\n",
       "       [2.88365478e-01, 1.47323376e-01, 9.19551971e-01],\n",
       "       [5.46816790e-01, 4.16251390e-01, 7.91292254e-01]])"
      ]
     },
     "execution_count": 113,
     "metadata": {},
     "output_type": "execute_result"
    }
   ],
   "source": [
    "action = np.random.rand(14, 3)\n",
    "action"
   ]
  },
  {
   "cell_type": "code",
   "execution_count": 114,
   "metadata": {},
   "outputs": [
    {
     "data": {
      "text/plain": [
       "0.9957861502843363"
      ]
     },
     "execution_count": 114,
     "metadata": {},
     "output_type": "execute_result"
    }
   ],
   "source": [
    "action.max()"
   ]
  },
  {
   "cell_type": "code",
   "execution_count": 115,
   "metadata": {},
   "outputs": [
    {
     "data": {
      "text/plain": [
       "25"
      ]
     },
     "execution_count": 115,
     "metadata": {},
     "output_type": "execute_result"
    }
   ],
   "source": [
    "action.argmax()"
   ]
  },
  {
   "cell_type": "code",
   "execution_count": 118,
   "metadata": {},
   "outputs": [
    {
     "data": {
      "text/plain": [
       "14"
      ]
     },
     "execution_count": 118,
     "metadata": {},
     "output_type": "execute_result"
    }
   ],
   "source": [
    "action.shape[0]"
   ]
  },
  {
   "cell_type": "code",
   "execution_count": null,
   "metadata": {},
   "outputs": [],
   "source": []
  }
 ],
 "metadata": {
  "kernelspec": {
   "display_name": "rdkit",
   "language": "python",
   "name": "rdkit"
  },
  "language_info": {
   "codemirror_mode": {
    "name": "ipython",
    "version": 3
   },
   "file_extension": ".py",
   "mimetype": "text/x-python",
   "name": "python",
   "nbconvert_exporter": "python",
   "pygments_lexer": "ipython3",
   "version": "3.7.6"
  }
 },
 "nbformat": 4,
 "nbformat_minor": 4
}
